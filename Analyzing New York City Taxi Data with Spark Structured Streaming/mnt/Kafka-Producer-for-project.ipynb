{
 "cells": [
  {
   "cell_type": "code",
   "execution_count": 1,
   "id": "5a8b9a94",
   "metadata": {},
   "outputs": [
    {
     "name": "stdout",
     "output_type": "stream",
     "text": [
      "Collecting confluent_kafka\n",
      "  Downloading confluent_kafka-2.4.0-cp311-cp311-manylinux_2_17_x86_64.manylinux2014_x86_64.whl.metadata (2.3 kB)\n",
      "Collecting sseclient\n",
      "  Downloading sseclient-0.0.27.tar.gz (7.5 kB)\n",
      "  Preparing metadata (setup.py) ... \u001b[?25ldone\n",
      "\u001b[?25hCollecting geopandas\n",
      "  Downloading geopandas-0.14.4-py3-none-any.whl.metadata (1.5 kB)\n",
      "Requirement already satisfied: requests>=2.9 in /opt/conda/lib/python3.11/site-packages (from sseclient) (2.31.0)\n",
      "Requirement already satisfied: six in /opt/conda/lib/python3.11/site-packages (from sseclient) (1.16.0)\n",
      "Collecting fiona>=1.8.21 (from geopandas)\n",
      "  Downloading fiona-1.9.6-cp311-cp311-manylinux2014_x86_64.whl.metadata (50 kB)\n",
      "\u001b[2K     \u001b[90m━━━━━━━━━━━━━━━━━━━━━━━━━━━━━━━━━━━━━━━━\u001b[0m \u001b[32m50.2/50.2 kB\u001b[0m \u001b[31m1.8 MB/s\u001b[0m eta \u001b[36m0:00:00\u001b[0m\n",
      "\u001b[?25hRequirement already satisfied: numpy>=1.22 in /opt/conda/lib/python3.11/site-packages (from geopandas) (1.26.4)\n",
      "Requirement already satisfied: packaging in /opt/conda/lib/python3.11/site-packages (from geopandas) (23.2)\n",
      "Requirement already satisfied: pandas>=1.4.0 in /opt/conda/lib/python3.11/site-packages (from geopandas) (2.0.3)\n",
      "Collecting pyproj>=3.3.0 (from geopandas)\n",
      "  Downloading pyproj-3.6.1-cp311-cp311-manylinux_2_17_x86_64.manylinux2014_x86_64.whl.metadata (31 kB)\n",
      "Collecting shapely>=1.8.0 (from geopandas)\n",
      "  Downloading shapely-2.0.4-cp311-cp311-manylinux_2_17_x86_64.manylinux2014_x86_64.whl.metadata (7.0 kB)\n",
      "Requirement already satisfied: attrs>=19.2.0 in /opt/conda/lib/python3.11/site-packages (from fiona>=1.8.21->geopandas) (23.2.0)\n",
      "Requirement already satisfied: certifi in /opt/conda/lib/python3.11/site-packages (from fiona>=1.8.21->geopandas) (2024.2.2)\n",
      "Requirement already satisfied: click~=8.0 in /opt/conda/lib/python3.11/site-packages (from fiona>=1.8.21->geopandas) (8.1.7)\n",
      "Collecting click-plugins>=1.0 (from fiona>=1.8.21->geopandas)\n",
      "  Downloading click_plugins-1.1.1-py2.py3-none-any.whl.metadata (6.4 kB)\n",
      "Collecting cligj>=0.5 (from fiona>=1.8.21->geopandas)\n",
      "  Downloading cligj-0.7.2-py3-none-any.whl.metadata (5.0 kB)\n",
      "Requirement already satisfied: python-dateutil>=2.8.2 in /opt/conda/lib/python3.11/site-packages (from pandas>=1.4.0->geopandas) (2.8.2)\n",
      "Requirement already satisfied: pytz>=2020.1 in /opt/conda/lib/python3.11/site-packages (from pandas>=1.4.0->geopandas) (2024.1)\n",
      "Requirement already satisfied: tzdata>=2022.1 in /opt/conda/lib/python3.11/site-packages (from pandas>=1.4.0->geopandas) (2024.1)\n",
      "Requirement already satisfied: charset-normalizer<4,>=2 in /opt/conda/lib/python3.11/site-packages (from requests>=2.9->sseclient) (3.3.2)\n",
      "Requirement already satisfied: idna<4,>=2.5 in /opt/conda/lib/python3.11/site-packages (from requests>=2.9->sseclient) (3.6)\n",
      "Requirement already satisfied: urllib3<3,>=1.21.1 in /opt/conda/lib/python3.11/site-packages (from requests>=2.9->sseclient) (2.2.0)\n",
      "Downloading confluent_kafka-2.4.0-cp311-cp311-manylinux_2_17_x86_64.manylinux2014_x86_64.whl (4.1 MB)\n",
      "\u001b[2K   \u001b[90m━━━━━━━━━━━━━━━━━━━━━━━━━━━━━━━━━━━━━━━━\u001b[0m \u001b[32m4.1/4.1 MB\u001b[0m \u001b[31m25.6 MB/s\u001b[0m eta \u001b[36m0:00:00\u001b[0m00:01\u001b[0m00:01\u001b[0m\n",
      "\u001b[?25hDownloading geopandas-0.14.4-py3-none-any.whl (1.1 MB)\n",
      "\u001b[2K   \u001b[90m━━━━━━━━━━━━━━━━━━━━━━━━━━━━━━━━━━━━━━━━\u001b[0m \u001b[32m1.1/1.1 MB\u001b[0m \u001b[31m30.1 MB/s\u001b[0m eta \u001b[36m0:00:00\u001b[0m00:01\u001b[0m\n",
      "\u001b[?25hDownloading fiona-1.9.6-cp311-cp311-manylinux2014_x86_64.whl (15.7 MB)\n",
      "\u001b[2K   \u001b[90m━━━━━━━━━━━━━━━━━━━━━━━━━━━━━━━━━━━━━━━━\u001b[0m \u001b[32m15.7/15.7 MB\u001b[0m \u001b[31m24.5 MB/s\u001b[0m eta \u001b[36m0:00:00\u001b[0m00:01\u001b[0m00:01\u001b[0m\n",
      "\u001b[?25hDownloading pyproj-3.6.1-cp311-cp311-manylinux_2_17_x86_64.manylinux2014_x86_64.whl (8.6 MB)\n",
      "\u001b[2K   \u001b[90m━━━━━━━━━━━━━━━━━━━━━━━━━━━━━━━━━━━━━━━━\u001b[0m \u001b[32m8.6/8.6 MB\u001b[0m \u001b[31m29.7 MB/s\u001b[0m eta \u001b[36m0:00:00\u001b[0m00:01\u001b[0m00:01\u001b[0m\n",
      "\u001b[?25hDownloading shapely-2.0.4-cp311-cp311-manylinux_2_17_x86_64.manylinux2014_x86_64.whl (2.5 MB)\n",
      "\u001b[2K   \u001b[90m━━━━━━━━━━━━━━━━━━━━━━━━━━━━━━━━━━━━━━━━\u001b[0m \u001b[32m2.5/2.5 MB\u001b[0m \u001b[31m34.9 MB/s\u001b[0m eta \u001b[36m0:00:00\u001b[0ma \u001b[36m0:00:01\u001b[0m\n",
      "\u001b[?25hDownloading click_plugins-1.1.1-py2.py3-none-any.whl (7.5 kB)\n",
      "Downloading cligj-0.7.2-py3-none-any.whl (7.1 kB)\n",
      "Building wheels for collected packages: sseclient\n",
      "  Building wheel for sseclient (setup.py) ... \u001b[?25ldone\n",
      "\u001b[?25h  Created wheel for sseclient: filename=sseclient-0.0.27-py3-none-any.whl size=5563 sha256=5248334718a283095d2e3bc649a46044aed904541c690f8da27421375f7f078f\n",
      "  Stored in directory: /home/jovyan/.cache/pip/wheels/7c/54/eb/a223b1599728ecaf0528281c17c96c503aa7d18a752a4e4e3a\n",
      "Successfully built sseclient\n",
      "Installing collected packages: confluent_kafka, shapely, pyproj, cligj, click-plugins, sseclient, fiona, geopandas\n",
      "Successfully installed click-plugins-1.1.1 cligj-0.7.2 confluent_kafka-2.4.0 fiona-1.9.6 geopandas-0.14.4 pyproj-3.6.1 shapely-2.0.4 sseclient-0.0.27\n",
      "Note: you may need to restart the kernel to use updated packages.\n"
     ]
    }
   ],
   "source": [
    "%pip install confluent_kafka sseclient geopandas"
   ]
  },
  {
   "cell_type": "code",
   "execution_count": 2,
   "id": "2e778584",
   "metadata": {},
   "outputs": [],
   "source": [
    "from confluent_kafka import SerializingProducer, DeserializingConsumer\n",
    "from confluent_kafka.serialization import StringSerializer, StringDeserializer\n",
    "from confluent_kafka.admin import AdminClient, NewTopic\n",
    "from uuid import uuid4\n",
    "import os\n",
    "import sys, random\n",
    "\n",
    "brokers = os.getenv('KAFKA_ADVERTISED_LISTENERS')\n",
    "protocol = os.getenv('KAFKA_LISTENER_SECURITY_PROTOCOL_MAP')"
   ]
  },
  {
   "cell_type": "code",
   "execution_count": 3,
   "id": "ef7871fb",
   "metadata": {},
   "outputs": [],
   "source": [
    "pconf = {\n",
    "    'bootstrap.servers': brokers,\n",
    "    'partitioner': 'murmur2_random',\n",
    "    'key.serializer': StringSerializer('utf_8'),\n",
    "    'value.serializer': StringSerializer('utf_8'),\n",
    "    'security.protocol': 'PLAINTEXT'\n",
    "}"
   ]
  },
  {
   "cell_type": "code",
   "execution_count": 4,
   "id": "46183cdf",
   "metadata": {},
   "outputs": [],
   "source": [
    "p = SerializingProducer(pconf)"
   ]
  },
  {
   "cell_type": "code",
   "execution_count": 5,
   "id": "be76611f",
   "metadata": {},
   "outputs": [],
   "source": [
    "stocks = \"sample.csv\""
   ]
  },
  {
   "cell_type": "code",
   "execution_count": 6,
   "id": "fd849c8f",
   "metadata": {},
   "outputs": [],
   "source": [
    "from datetime import datetime\n",
    "import geopandas as gpd\n",
    "import pandas as pd\n",
    "from shapely.geometry import shape, Point\n",
    "\n",
    "# Load GeoJSON file into GeoDataFrame\n",
    "gdf = gpd.read_file('./nyc-boroughs.geojson')\n",
    "# Ensure geometries are valid\n",
    "gdf['geometry'] = gdf['geometry'].apply(lambda x: x if x.is_valid else x.buffer(0))\n",
    "\n",
    "# Create a list of tuples (boroughCode, geometry)\n",
    "boroughs = gdf.apply(lambda row: (row['boroughCode'], shape(row['geometry'])), axis=1).tolist()\n",
    "\n",
    "# Define the function to get borough code based on coordinates\n",
    "def get_borough(longitude, latitude):\n",
    "    point = Point(longitude, latitude)\n",
    "    for code, geom in boroughs:\n",
    "        if geom.contains(point):\n",
    "            return code\n",
    "    return None\n",
    "\n",
    "\n",
    "def construct_stock(row):\n",
    "    time_stamp = time.time()\n",
    "    date_time = datetime.fromtimestamp(time_stamp)\n",
    "    str_date_time = date_time.strftime(\"%Y-%m-%dT%H:%M:%SZ\") #\"%d-%m-%Y, %H:%M:%S\"\n",
    "    stock = {\n",
    "        #  Some Unique ID for the car (license)\n",
    "        \"hack_license\": row[1],\n",
    "        #  Pick-up location\n",
    "        \"pick_up_location\": get_borough(row[10], row[11]),\n",
    "        #  Drop-off location\n",
    "        \"drop_off_location\": get_borough(row[12], row[13]),\n",
    "        #  Pick-up time\n",
    "              \"pick_up_time\": row[5],\n",
    "        #  Drop-off time\n",
    "              \"drop_off_time\": row[6],\n",
    "              \"timestamp\":str_date_time\n",
    "            }\n",
    "    return stock"
   ]
  },
  {
   "cell_type": "code",
   "execution_count": 8,
   "id": "06e266f9",
   "metadata": {},
   "outputs": [
    {
     "name": "stdout",
     "output_type": "stream",
     "text": [
      "{'hack_license': 'BA96DE419E711691B9445D6A6307C170', 'pick_up_location': 1, 'drop_off_location': 1, 'pick_up_time': '2013-01-01 15:11:48', 'drop_off_time': '2013-01-01 15:18:10', 'timestamp': '2024-05-26T13:47:34Z'}\n",
      "{'hack_license': '9FD8F69F0804BDB5549F40E9DA1BE472', 'pick_up_location': 1, 'drop_off_location': 1, 'pick_up_time': '2013-01-06 00:18:35', 'drop_off_time': '2013-01-06 00:22:54', 'timestamp': '2024-05-26T13:47:39Z'}\n",
      "{'hack_license': '9FD8F69F0804BDB5549F40E9DA1BE472', 'pick_up_location': 1, 'drop_off_location': 1, 'pick_up_time': '2013-01-05 18:49:41', 'drop_off_time': '2013-01-05 18:54:23', 'timestamp': '2024-05-26T13:47:44Z'}\n",
      "{'hack_license': '51EE87E3205C985EF8431D850C786310', 'pick_up_location': 1, 'drop_off_location': 1, 'pick_up_time': '2013-01-07 23:54:15', 'drop_off_time': '2013-01-07 23:58:20', 'timestamp': '2024-05-26T13:47:49Z'}\n",
      "{'hack_license': '51EE87E3205C985EF8431D850C786310', 'pick_up_location': 1, 'drop_off_location': 1, 'pick_up_time': '2013-01-07 23:25:03', 'drop_off_time': '2013-01-07 23:34:24', 'timestamp': '2024-05-26T13:47:54Z'}\n",
      "{'hack_license': '598CCE5B9C1918568DEE71F43CF26CD2', 'pick_up_location': 1, 'drop_off_location': 1, 'pick_up_time': '2013-01-07 15:27:48', 'drop_off_time': '2013-01-07 15:38:37', 'timestamp': '2024-05-26T13:47:59Z'}\n",
      "{'hack_license': '513189AD756FF14FE670D10B92FAF04C', 'pick_up_location': 1, 'drop_off_location': 1, 'pick_up_time': '2013-01-08 11:01:15', 'drop_off_time': '2013-01-08 11:08:14', 'timestamp': '2024-05-26T13:48:04Z'}\n",
      "{'hack_license': 'CCD4367B417ED6634D986F573A552A62', 'pick_up_location': 1, 'drop_off_location': 4, 'pick_up_time': '2013-01-07 12:39:18', 'drop_off_time': '2013-01-07 13:10:56', 'timestamp': '2024-05-26T13:48:09Z'}\n",
      "{'hack_license': '1DA2F6543A62B8ED934771661A9D2FA0', 'pick_up_location': 1, 'drop_off_location': 1, 'pick_up_time': '2013-01-07 18:15:47', 'drop_off_time': '2013-01-07 18:20:47', 'timestamp': '2024-05-26T13:48:14Z'}\n"
     ]
    },
    {
     "ename": "KeyboardInterrupt",
     "evalue": "",
     "output_type": "error",
     "traceback": [
      "\u001b[0;31m---------------------------------------------------------------------------\u001b[0m",
      "\u001b[0;31mKeyboardInterrupt\u001b[0m                         Traceback (most recent call last)",
      "Cell \u001b[0;32mIn[8], line 16\u001b[0m\n\u001b[1;32m     14\u001b[0m         p\u001b[38;5;241m.\u001b[39mpoll(\u001b[38;5;241m0\u001b[39m)\n\u001b[1;32m     15\u001b[0m         p\u001b[38;5;241m.\u001b[39mflush()\n\u001b[0;32m---> 16\u001b[0m         time\u001b[38;5;241m.\u001b[39msleep(\u001b[38;5;241m5\u001b[39m)\n\u001b[1;32m     17\u001b[0m         n \u001b[38;5;241m=\u001b[39m n \u001b[38;5;241m+\u001b[39m \u001b[38;5;241m1\u001b[39m\n\u001b[1;32m     18\u001b[0m \u001b[38;5;28;01mexcept\u001b[39;00m \u001b[38;5;167;01mBufferError\u001b[39;00m:\n",
      "\u001b[0;31mKeyboardInterrupt\u001b[0m: "
     ]
    }
   ],
   "source": [
    "import csv, json\n",
    "import time\n",
    "n = 0\n",
    "with open(stocks) as csv_file:\n",
    "    csv_reader = csv.reader(csv_file, delimiter=',')\n",
    "    next(csv_reader, None)\n",
    "    try:\n",
    "        for row in csv_reader:\n",
    "            if n == 100:\n",
    "              break\n",
    "            stock = construct_stock(row)\n",
    "            print(stock)\n",
    "            p.produce('stock', value=json.dumps(stock))\n",
    "            p.poll(0)\n",
    "            p.flush()\n",
    "            time.sleep(5)\n",
    "            n = n + 1\n",
    "    except BufferError:\n",
    "        sys.stderr.write('%% Local producer queue is full (%d messages awaiting delivery): try again\\n' % len(p))\n",
    "\n",
    "    \n",
    "        \n",
    "    \n",
    "    \n",
    "    "
   ]
  },
  {
   "cell_type": "markdown",
   "id": "5d0a3766-7c7e-4792-8929-e92740f7aed7",
   "metadata": {},
   "source": [
    "### Use only if you need to purge all the messages in the queue"
   ]
  },
  {
   "cell_type": "code",
   "execution_count": 1,
   "id": "c449281e-8c82-4d8f-a9db-030d2dcdcf07",
   "metadata": {},
   "outputs": [
    {
     "ename": "NameError",
     "evalue": "name 'AdminClient' is not defined",
     "output_type": "error",
     "traceback": [
      "\u001b[0;31m---------------------------------------------------------------------------\u001b[0m",
      "\u001b[0;31mNameError\u001b[0m                                 Traceback (most recent call last)",
      "Cell \u001b[0;32mIn[1], line 3\u001b[0m\n\u001b[1;32m      1\u001b[0m brokers \u001b[38;5;241m=\u001b[39m \u001b[38;5;124m\"\u001b[39m\u001b[38;5;124mbroker:9092\u001b[39m\u001b[38;5;124m\"\u001b[39m\n\u001b[0;32m----> 3\u001b[0m admin_client \u001b[38;5;241m=\u001b[39m \u001b[43mAdminClient\u001b[49m({\u001b[38;5;124m\"\u001b[39m\u001b[38;5;124mbootstrap.servers\u001b[39m\u001b[38;5;124m\"\u001b[39m:brokers})\n\u001b[1;32m      4\u001b[0m admin_client\u001b[38;5;241m.\u001b[39mdelete_topics(topics\u001b[38;5;241m=\u001b[39m[\u001b[38;5;124m'\u001b[39m\u001b[38;5;124mstock\u001b[39m\u001b[38;5;124m'\u001b[39m])\n",
      "\u001b[0;31mNameError\u001b[0m: name 'AdminClient' is not defined"
     ]
    }
   ],
   "source": [
    "brokers = \"broker:9092\"\n",
    "\n",
    "admin_client = AdminClient({\"bootstrap.servers\":brokers})\n",
    "admin_client.delete_topics(topics=['stock'])"
   ]
  }
 ],
 "metadata": {
  "kernelspec": {
   "display_name": "Python 3 (ipykernel)",
   "language": "python",
   "name": "python3"
  },
  "language_info": {
   "codemirror_mode": {
    "name": "ipython",
    "version": 3
   },
   "file_extension": ".py",
   "mimetype": "text/x-python",
   "name": "python",
   "nbconvert_exporter": "python",
   "pygments_lexer": "ipython3",
   "version": "3.11.7"
  }
 },
 "nbformat": 4,
 "nbformat_minor": 5
}
