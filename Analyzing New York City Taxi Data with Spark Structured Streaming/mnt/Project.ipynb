{
 "cells": [
  {
   "cell_type": "markdown",
   "id": "6565e3f8",
   "metadata": {},
   "source": [
    "## Project Template"
   ]
  },
  {
   "cell_type": "code",
   "execution_count": 1,
   "id": "55974225",
   "metadata": {},
   "outputs": [],
   "source": [
    "from pyspark.sql import SparkSession\n",
    "import pyspark.sql.functions as F\n",
    "from delta import *\n",
    "from delta.tables import *\n",
    "import os\n",
    "import uuid\n",
    "import time\n",
    "\n",
    "builder = SparkSession.builder.appName(\"Streaming2_practice\") \\\n",
    "    .config(\"spark.sql.extensions\", \"io.delta.sql.DeltaSparkSessionExtension\") \\\n",
    "    .config(\"spark.sql.catalog.spark_catalog\", \"org.apache.spark.sql.delta.catalog.DeltaCatalog\") \\\n",
    "    .config(\"spark.sql.streaming.statefulOperator.checkCorrectness.enabled\", \"false\") \\\n",
    "    .config(\"spark.jars.packages\", 'org.apache.spark:spark-sql-kafka-0-10_2.12:3.0.0') \\\n",
    "    .config(\"spark.sql.repl.eagerEval.enabled\", True) \\\n",
    "    .config(\"spark.sql.adaptive.enabled\", \"false\") \\\n",
    "    .config(\"spark.sql.debug.maxToStringFields\", \"10000\")\n",
    "\n",
    "spark = configure_spark_with_delta_pip(builder).getOrCreate() # type: ignore\n"
   ]
  },
  {
   "cell_type": "code",
   "execution_count": 2,
   "id": "4e622d5b-ef4d-4d78-abcb-e9edc2305ac8",
   "metadata": {},
   "outputs": [],
   "source": [
    "from pyspark.sql.types import StructType, StructField, StringType, TimestampType, FloatType\n",
    "\n",
    "schema = StructType(\n",
    "      [\n",
    "        StructField(\"hack_license\", StringType(), False),\n",
    "        StructField(\"pick_up_location\", StringType(), False),\n",
    "        StructField(\"drop_off_location\", StringType(), False),\n",
    "        StructField(\"pick_up_time\", TimestampType(), False),\n",
    "        StructField(\"drop_off_time\", TimestampType(), False),\n",
    "        StructField(\"timestamp\", TimestampType(), False),\n",
    "      ]\n",
    "    )"
   ]
  },
  {
   "cell_type": "code",
   "execution_count": 3,
   "id": "69712d38",
   "metadata": {},
   "outputs": [
    {
     "data": {
      "text/plain": [
       "False"
      ]
     },
     "execution_count": 3,
     "metadata": {},
     "output_type": "execute_result"
    }
   ],
   "source": [
    "brokers = os.getenv('KAFKA_ADVERTISED_LISTENERS')\n",
    "protocol = os.getenv('KAFKA_LISTENER_SECURITY_PROTOCOL_MAP') \n",
    "\n",
    "lines = (spark.readStream\n",
    "    .format(\"kafka\")\n",
    "    .option(\"kafka.bootstrap.servers\", brokers)\n",
    "    .option(\"kafka.security.protocol\", protocol)\n",
    "    .option(\"subscribe\", \"stock\")\n",
    "    .option(\"startingOffsets\", \"earliest\")\n",
    "    .option(\"maxOffsetsPerTrigger\", 100)\n",
    "    .load()\n",
    ")\n",
    "\n",
    "df = lines.select(F.from_json(lines.value.cast(\"string\"), schema).alias(\"data\")).select(\"data.*\")\n",
    "df.writeStream.format(\"console\").start().awaitTermination(5)\n"
   ]
  },
  {
   "cell_type": "markdown",
   "id": "c24187ef-e5b4-4fa7-bab5-60aa94412a05",
   "metadata": {},
   "source": [
    "## [Query 1] Utilization over a window of 5, 10, and 15 minutes per taxi/driver. This can be computed by computing the idle time per taxi. How does it change? Is there an optimal window?"
   ]
  },
  {
   "cell_type": "code",
   "execution_count": null,
   "id": "65b2d7ed",
   "metadata": {
    "scrolled": true
   },
   "outputs": [],
   "source": [
    "from datetime import datetime\n",
    "\n",
    "checkpoint_path = \"./checkpoint\" \n",
    "output_path = \"output/\"\n",
    "watermark_duration = \"30 minutes\"\n",
    "\n",
    "\n",
    "# Set up queries for each window duration\n",
    "queries = []\n",
    "windows = [5, 10, 15]\n",
    "for duration in windows:\n",
    "    window_duration = f\"{duration} minutes\"\n",
    "\n",
    "    df = parsed_lines.withWatermark(\"pick_up_time\", watermark_duration)\\\n",
    "        .withColumn(\"active_time\", F.unix_timestamp(\"drop_off_time\") - F.unix_timestamp(\"pick_up_time\"));\n",
    "\n",
    "    df.writeStream.format(\"console\").start().awaitTermination(5)\n",
    "\n",
    "\n",
    "    df_grouped = df.groupBy(\n",
    "        F.col(\"hack_license\"), \n",
    "        F.window(F.col(\"pick_up_time\"), window_duration)\n",
    "    ).agg(\n",
    "        F.sum(\"active_time\").alias(\"total_active_time\"),\n",
    "        F.min(\"pick_up_time\").alias(\"first_pick_up_time\"),\n",
    "        F.max(\"drop_off_time\").alias(\"last_drop_off_time\")\n",
    "    )\n",
    "\n",
    "    df_grouped.writeStream.format(\"console\").start().awaitTermination(5)\n",
    "\n",
    "\n",
    "    # Calculate the idle time\n",
    "    idle_time_df = df_grouped.withColumn(\"idle_time\", \\\n",
    "                                         (F.unix_timestamp(F.col(\"last_drop_off_time\")) - F.unix_timestamp(F.col(\"first_pick_up_time\"))) - F.col(\"total_active_time\"))\n",
    "\n",
    "    idle_time_df.writeStream.format(\"console\").start().awaitTermination(5)\n",
    "\n",
    "\n",
    "    query = idle_time_df.writeStream \\\n",
    "            .outputMode(\"append\") \\\n",
    "            .format(\"delta\") \\\n",
    "            .trigger(processingTime=\"120 seconds\") \\\n",
    "            .option(\"checkpointLocation\", f\"{checkpoint_path}/duration_{duration}_min\") \\\n",
    "            .option(\"path\", f\"{output_path}/duration_{duration}_min\") \\\n",
    "            .option(\"mergeSchema\", \"true\") \\\n",
    "            .start()\n",
    "    queries.append(query)"
   ]
  },
  {
   "cell_type": "code",
   "execution_count": null,
   "id": "88a5bafe-a7fc-4b9d-810a-7eee94624b22",
   "metadata": {},
   "outputs": [],
   "source": [
    "for query in queries:\n",
    "    query.stop()"
   ]
  },
  {
   "cell_type": "code",
   "execution_count": null,
   "id": "c1ea15f2-e119-4a8a-94a6-901576e9e8da",
   "metadata": {},
   "outputs": [],
   "source": [
    "import matplotlib.pyplot as plt\n",
    "import pandas as pd\n",
    "\n",
    "checkpoint_path = \"./checkpoint\" \n",
    "output_path = \"output/\"\n",
    "windows = [5, 10, 15]\n",
    "\n",
    "# Assuming you have a function to read delta tables into a dataframe\n",
    "def read_delta_table(path):\n",
    "    return spark.read.format(\"delta\").load(path).toPandas()\n",
    "\n",
    "# Collect data from different window outputs\n",
    "data_frames = {duration: read_delta_table(f\"{output_path}/duration_{duration}_min\") for duration in windows}\n",
    "\n",
    "for duration, df in data_frames.items():\n",
    "    df['window_size'] = f\"{duration}min\"  # Add window size as a string, e.g., '5min'\n",
    "\n",
    "# Combine all data frames into one\n",
    "combined_df = pd.concat(data_frames.values(), ignore_index=True)\n",
    "\n",
    "# Drop the 'window' column if no longer needed\n",
    "combined_df.drop('window', axis=1, inplace=True)\n",
    "\n",
    "# Pivot the DataFrame\n",
    "pivot_df = combined_df.pivot_table(index='hack_license', columns='window_size', values='idle_time', aggfunc='mean')\n",
    "print(pivot_df)\n",
    "\n",
    "# Optional: Reset the index if you want 'hack_licence' as a regular column for plotting\n",
    "pivot_df.reset_index(inplace=True)\n",
    "\n",
    "# Example of plotting\n",
    "import matplotlib.pyplot as plt\n",
    "\n",
    "pivot_df.set_index('hack_license').plot(kind='bar', figsize=(10, 7))\n",
    "plt.title('Average Idle Time per Window Size')\n",
    "plt.xlabel('Driver')\n",
    "plt.ylabel('Average Idle Time (seconds)')\n",
    "plt.xticks(rotation=0)\n",
    "plt.legend(title='Window size')\n",
    "plt.show()"
   ]
  },
  {
   "cell_type": "markdown",
   "id": "6746caef-fc7c-4d0e-98df-cdd6046393eb",
   "metadata": {},
   "source": [
    "## [Query 2] The average time it takes for a taxi to find its next fare(trip) per destination borough. This can be computed by finding the time difference, e.g. in seconds, between the trip's drop off and the next trip's pick up within a given unit of time"
   ]
  },
  {
   "cell_type": "code",
   "execution_count": 4,
   "id": "7c5fb73f",
   "metadata": {},
   "outputs": [
    {
     "data": {
      "text/plain": [
       "False"
      ]
     },
     "execution_count": 4,
     "metadata": {},
     "output_type": "execute_result"
    }
   ],
   "source": [
    "brokers = os.getenv('KAFKA_ADVERTISED_LISTENERS')\n",
    "protocol = os.getenv('KAFKA_LISTENER_SECURITY_PROTOCOL_MAP') \n",
    "\n",
    "lines_2 = (spark.readStream\n",
    "    .format(\"kafka\")\n",
    "    .option(\"kafka.bootstrap.servers\", brokers)\n",
    "    .option(\"kafka.security.protocol\", protocol)\n",
    "    .option(\"subscribe\", \"stock\")\n",
    "    .option(\"startingOffsets\", \"earliest\")\n",
    "    .option(\"maxOffsetsPerTrigger\", 100)\n",
    "    .load()\n",
    ")\n",
    "df_2 = lines_2.select(F.from_json(lines_2.value.cast(\"string\"), schema).alias(\"data\")).select(\"data.*\")\n",
    "df_2.writeStream.format(\"console\").start().awaitTermination(5)\n"
   ]
  },
  {
   "cell_type": "code",
   "execution_count": 9,
   "id": "6bea404b-fc76-48f9-83d9-5946617863de",
   "metadata": {},
   "outputs": [],
   "source": [
    "checkpoint_path = \"./checkpoint\" \n",
    "output_path = \"./output\"\n",
    "\n",
    "# Define watermarks on the timestamp field used for windowing\n",
    "# Apply watermarks to both DataFrames on the timestamp fields\n",
    "df_stream_current = df_2.withWatermark(\"drop_off_time\", \"2 hours\")\n",
    "df_stream_next = df_2.withWatermark(\"pick_up_time\", \"2 hours\")\n",
    "\n",
    "# Join using conditions that include a time range based on watermarks\n",
    "join_condition = [\n",
    "    F.col(\"current.hack_license\") == F.col(\"next.hack_license\"),\n",
    "    F.col(\"current.drop_off_time\") < F.col(\"next.pick_up_time\"),\n",
    "    F.col(\"next.pick_up_time\") <= F.col(\"current.drop_off_time\") + F.expr(\"interval 24 hours\") #boundary condition\n",
    "]\n",
    "\n",
    "\n",
    "df_next_trip = df_stream_current.alias(\"current\").join(\n",
    "    df_stream_next.alias(\"next\"),\n",
    "    on=join_condition,\n",
    "    how=\"left_outer\"\n",
    ").select(\n",
    "    F.col(\"current.drop_off_location\").alias(\"drop_off_borough\"),\n",
    "    F.col(\"current.drop_off_time\"),\n",
    "    F.col(\"next.pick_up_time\").alias(\"next_pick_up_time\"),\n",
    "    F.expr(\"unix_timestamp(next_pick_up_time) - unix_timestamp(current.drop_off_time)\").alias(\"time_to_next_fare\")\n",
    ")\n",
    "\n",
    "# Define a window for aggregation\n",
    "window_duration = \"1 hour\"\n",
    "slide_duration = \"15 minutes\"\n",
    "\n",
    "\n",
    "# Calculate average time to the next fare per borough\n",
    "avg_time_to_next_fare = df_next_trip.groupBy(\n",
    "    F.window(F.col(\"drop_off_time\"), window_duration, slide_duration),\n",
    "    F.col(\"drop_off_borough\")\n",
    ").agg(\n",
    "    F.avg(\"time_to_next_fare\").alias(\"avg_time_to_next_fare\")\n",
    ")\n",
    "avg_time_to_next_fare.writeStream.format(\"console\").start().awaitTermination(5)\n",
    "\n",
    "avg_time_to_next_fare_filtered = avg_time_to_next_fare.filter(F.col(\"avg_time_to_next_fare\") > 0).filter(F.expr(\"drop_off_borough is not null\"))\n",
    "\n",
    "\n",
    "query = avg_time_to_next_fare_filtered.writeStream \\\n",
    "    .outputMode(\"append\") \\\n",
    "    .format(\"delta\") \\\n",
    "    .trigger(processingTime=\"120 seconds\") \\\n",
    "    .option(\"checkpointLocation\", f\"{checkpoint_path}/next_fare\") \\\n",
    "    .option(\"path\", f\"{output_path}/next_fare\") \\\n",
    "    .option(\"mergeSchema\", \"true\") \\\n",
    "    .start()"
   ]
  },
  {
   "cell_type": "code",
   "execution_count": 12,
   "id": "46908d1c",
   "metadata": {},
   "outputs": [
    {
     "name": "stdout",
     "output_type": "stream",
     "text": [
      "                                       window drop_off_borough  \\\n",
      "0  (2013-01-07 13:00:00, 2013-01-07 14:00:00)                4   \n",
      "1  (2013-01-07 13:00:00, 2013-01-07 14:00:00)                1   \n",
      "2  (2013-01-07 17:15:00, 2013-01-07 18:15:00)                1   \n",
      "3  (2013-01-07 07:45:00, 2013-01-07 08:45:00)                1   \n",
      "4  (2013-01-08 12:30:00, 2013-01-08 13:30:00)                1   \n",
      "\n",
      "   avg_time_to_next_fare  \n",
      "0                 5509.0  \n",
      "1                 7157.0  \n",
      "2                24101.0  \n",
      "3                 6031.0  \n",
      "4                 3827.5  \n"
     ]
    },
    {
     "data": {
      "image/png": "[encoded data removed]",
      "text/plain": [
       "<Figure size 1000x600 with 1 Axes>"
      ]
     },
     "metadata": {},
     "output_type": "display_data"
    }
   ],
   "source": [
    "import pandas as pd\n",
    "import matplotlib.pyplot as plt\n",
    "import numpy as np\n",
    "\n",
    "\n",
    "def read_delta_table(path):\n",
    "    return spark.read.format(\"delta\").load(path).toPandas()\n",
    "\n",
    "pd_fares = read_delta_table(f\"{output_path}/next_fare\")\n",
    "print(pd_fares.head())\n",
    "\n",
    "pd_fares['window_start'] = pd_fares['window'].apply(lambda x: pd.to_datetime(x[0]))\n",
    "pd_fares['window_end'] = pd_fares['window'].apply(lambda x: pd.to_datetime(x[1]))\n",
    "pd_fares.dropna(subset=['avg_time_to_next_fare'], inplace=True)\n",
    "\n",
    "# Calculate the overall average time to the next fare per borough\n",
    "borough_averages = pd_fares.groupby('drop_off_borough').agg({'avg_time_to_next_fare': 'mean'}).reset_index()\n",
    "borough_averages.sort_values(by='avg_time_to_next_fare', ascending=False, inplace=True)\n",
    "\n",
    "plt.figure(figsize=(10, 6))\n",
    "plt.bar(borough_averages['drop_off_borough'].astype(str), borough_averages['avg_time_to_next_fare'], color='royalblue')\n",
    "\n",
    "plt.xlabel('Borough ID')\n",
    "plt.ylabel('Average Time to Next Fare (Ms)')\n",
    "plt.title('Average Time to Next Fare by Borough')\n",
    "plt.xticks(rotation=45)  # Rotate the labels for better readability\n",
    "plt.grid(axis='y', linestyle='--', alpha=0.7)  # Add horizontal grid lines for better alignment\n",
    "\n",
    "plt.tight_layout()\n",
    "plt.show()"
   ]
  },
  {
   "cell_type": "markdown",
   "id": "8268c285-d55c-4be3-8e5a-e7ddebb14153",
   "metadata": {},
   "source": [
    "## [Query 3] The number of trips that started and ended within the same borough in the last hour"
   ]
  },
  {
   "cell_type": "code",
   "execution_count": null,
   "id": "be3d1dfa",
   "metadata": {},
   "outputs": [],
   "source": [
    "brokers = os.getenv('KAFKA_ADVERTISED_LISTENERS')\n",
    "protocol = os.getenv('KAFKA_LISTENER_SECURITY_PROTOCOL_MAP') \n",
    "\n",
    "lines_3 = (spark.readStream\n",
    "    .format(\"kafka\")\n",
    "    .option(\"kafka.bootstrap.servers\", brokers)\n",
    "    .option(\"kafka.security.protocol\", protocol)\n",
    "    .option(\"subscribe\", \"stock\")\n",
    "    .option(\"startingOffsets\", \"earliest\")\n",
    "    .option(\"maxOffsetsPerTrigger\", 100)\n",
    "    .load()\n",
    ")\n",
    "df_3 = lines_3.select(F.from_json(lines_3.value.cast(\"string\"), schema).alias(\"data\")).select(\"data.*\")\n",
    "df_3.writeStream.format(\"console\").start().awaitTermination(5)"
   ]
  },
  {
   "cell_type": "code",
   "execution_count": null,
   "id": "b7e7ad21-59c2-4d4c-befe-9d1ceedbb74d",
   "metadata": {},
   "outputs": [],
   "source": [
    "df_stream = df_3.withWatermark(\"drop_off_time\", \"1 hour\")\n",
    "same_borough_trips = df_stream.filter(\n",
    "    F.col(\"pick_up_borough\") == F.col(\"drop_off_borough\")\n",
    ")\n",
    "window_duration = \"1 hour\"\n",
    "slide_duration = \"15 minutes\"\n",
    "\n",
    "# Group by the sliding window and borough, then count the entries\n",
    "trips_per_borough_per_hour = same_borough_trips.groupBy(\n",
    "    F.window(F.col(\"drop_off_time\"), window_duration, slide_duration),\n",
    "    F.col(\"drop_off_borough\")\n",
    ").count().withColumnRenamed(\"count\", \"number_of_trips\")\n",
    "\n",
    "\n",
    "query = trips_per_borough_per_hour.writeStream \\\n",
    "    .outputMode(\"append\") \\\n",
    "    .format(\"delta\") \\\n",
    "    .trigger(processingTime=\"120 seconds\") \\\n",
    "    .option(\"checkpointLocation\", f\"{checkpoint_path}/same_borough\") \\\n",
    "    .option(\"path\", f\"{output_path}/same_borough\") \\\n",
    "    .option(\"mergeSchema\", \"true\") \\\n",
    "    .start()"
   ]
  },
  {
   "cell_type": "markdown",
   "id": "41d0d685-c3ed-4b7d-8ebc-c3174ba55645",
   "metadata": {},
   "source": [
    "## [Query 4] The number of trips that started in one borough and ended in another one in the last hour"
   ]
  },
  {
   "cell_type": "code",
   "execution_count": null,
   "id": "f1f3578b-1960-4969-801b-adc2f45493a9",
   "metadata": {},
   "outputs": [],
   "source": [
    "brokers = os.getenv('KAFKA_ADVERTISED_LISTENERS')\n",
    "protocol = os.getenv('KAFKA_LISTENER_SECURITY_PROTOCOL_MAP') \n",
    "\n",
    "lines_4 = (spark.readStream\n",
    "    .format(\"kafka\")\n",
    "    .option(\"kafka.bootstrap.servers\", brokers)\n",
    "    .option(\"kafka.security.protocol\", protocol)\n",
    "    .option(\"subscribe\", \"stock\")\n",
    "    .option(\"startingOffsets\", \"earliest\")\n",
    "    .option(\"maxOffsetsPerTrigger\", 100)\n",
    "    .load()\n",
    ")\n",
    "df_4 = lines_4.select(F.from_json(lines_3.value.cast(\"string\"), schema).alias(\"data\")).select(\"data.*\")\n",
    "df_4.writeStream.format(\"console\").start().awaitTermination(5)"
   ]
  },
  {
   "cell_type": "code",
   "execution_count": null,
   "id": "2b324a68",
   "metadata": {},
   "outputs": [],
   "source": [
    "df_stream = df_4.withWatermark(\"drop_off_time\", \"1 hour\")\n",
    "same_borough_trips = df_stream.filter(\n",
    "    F.col(\"pick_up_borough\") != F.col(\"drop_off_borough\")\n",
    ")\n",
    "window_duration = \"1 hour\"\n",
    "slide_duration = \"15 minutes\"\n",
    "\n",
    "# Group by the sliding window and borough, then count the entries\n",
    "trips_per_borough_per_hour = same_borough_trips.groupBy(\n",
    "    F.window(F.col(\"drop_off_time\"), window_duration, slide_duration),\n",
    "    F.col(\"drop_off_borough\")\n",
    ").count().withColumnRenamed(\"count\", \"number_of_trips\")\n",
    "\n",
    "\n",
    "query = trips_per_borough_per_hour.writeStream \\\n",
    "    .outputMode(\"append\") \\\n",
    "    .format(\"delta\") \\\n",
    "    .trigger(processingTime=\"120 seconds\") \\\n",
    "    .option(\"checkpointLocation\", f\"{checkpoint_path}/same_borough\") \\\n",
    "    .option(\"path\", f\"{output_path}/same_borough\") \\\n",
    "    .option(\"mergeSchema\", \"true\") \\\n",
    "    .start()"
   ]
  }
 ],
 "metadata": {
  "kernelspec": {
   "display_name": "Python 3 (ipykernel)",
   "language": "python",
   "name": "python3"
  },
  "language_info": {
   "codemirror_mode": {
    "name": "ipython",
    "version": 3
   },
   "file_extension": ".py",
   "mimetype": "text/x-python",
   "name": "python",
   "nbconvert_exporter": "python",
   "pygments_lexer": "ipython3",
   "version": "3.11.7"
  }
 },
 "nbformat": 4,
 "nbformat_minor": 5
}
